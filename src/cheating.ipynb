{
 "cells": [
  {
   "cell_type": "code",
   "execution_count": 4,
   "metadata": {},
   "outputs": [],
   "source": [
    "import numpy as np\n",
    "import PyPDF2"
   ]
  },
  {
   "cell_type": "code",
   "execution_count": 5,
   "metadata": {},
   "outputs": [],
   "source": [
    "file = open('doc.pdf', 'rb')\n",
    "pdfReader = PyPDF2.PdfReader(file)\n",
    "text = \"\"\n",
    "for page in range(len(pdfReader.pages)):\n",
    "    text += pdfReader.pages[page].extract_text()\n",
    "file.close()"
   ]
  },
  {
   "cell_type": "code",
   "execution_count": 6,
   "metadata": {},
   "outputs": [],
   "source": [
    "import re\n",
    "def makeBigramDict(text):\n",
    "    text = text.lower()\n",
    "    text = re.sub(r'[^\\w\\s]', '', text)\n",
    "    text = text.replace('\\n', ' ').replace('-', ' ').split(' ')\n",
    "    bigramDict = {}\n",
    "    bigrams = [(text[a], text[a+1]) for a in range(len(text) - 1) if (text[a] != '' and text[a+1] != '')]\n",
    "    \n",
    "    return set(bigrams)\n",
    "\n",
    "    #The rest is for if we need ranking by occurences\n",
    "    for bigram in bigrams:\n",
    "        if bigram not in bigramDict:\n",
    "            bigramDict[bigram] = 0\n",
    "        bigramDict[bigram] += 1\n",
    "    sortedBigramDict = {}\n",
    "    for (val, key) in sorted( ((v,k) for k,v in bigramDict.items()), reverse=True):\n",
    "        sortedBigramDict[key] = val\n",
    "    return sortedBigramDict"
   ]
  },
  {
   "cell_type": "code",
   "execution_count": 7,
   "metadata": {},
   "outputs": [],
   "source": [
    "def cheat(paragraph, article):\n",
    "    bigramsP = makeBigramDict(paragraph)\n",
    "    bigramsA = makeBigramDict(article)\n",
    "    \n",
    "    return len(bigramsP & bigramsA)/len(bigramsA)\n",
    "    #return len(bigramsP.keys() & bigramsA.keys())/len(bigramsA.keys()) # - If we use ranking by occurences"
   ]
  },
  {
   "cell_type": "code",
   "execution_count": 8,
   "metadata": {},
   "outputs": [
    {
     "data": {
      "text/plain": [
       "0.9022359657469077"
      ]
     },
     "execution_count": 8,
     "metadata": {},
     "output_type": "execute_result"
    }
   ],
   "source": [
    "cheat(text[:-5000], text)"
   ]
  },
  {
   "cell_type": "code",
   "execution_count": 9,
   "metadata": {},
   "outputs": [
    {
     "name": "stdout",
     "output_type": "stream",
     "text": [
      "101\n"
     ]
    }
   ],
   "source": [
    "articles = []\n",
    "with open('out.txt', 'r') as file:\n",
    "    articles.append('')\n",
    "    a = 0\n",
    "    for line in file:\n",
    "        if '<EOA>' not in line:\n",
    "            articles[a] += line\n",
    "        else:\n",
    "            articles.append('')\n",
    "            a += 1\n",
    "print(len(articles))"
   ]
  },
  {
   "cell_type": "code",
   "execution_count": 21,
   "metadata": {},
   "outputs": [
    {
     "name": "stdout",
     "output_type": "stream",
     "text": [
      " 'Majolica' (maiolica) was originally used to describe wares made in Mediterranean Europe and primarily exported through the port of Maiorca. It was the first modern European pottery to achieve rich colours, opaque colours were applied over the usual red clay (terracotta) body, being opaque the glazes masked the colour of the underlying clay. The stiffness of the coloured glazes and the requirement to apply thickly so that the red clay body didn't show through meant the wares had a three dimensional feel to the decoration. Early Victorian tile makers like Minton & Co. and Maw & Co. used similar techniques to produce brightly coloured tiles albeit usually with an embossed body, early Minton majolica tiles are quite rare and sought after however they continued in production throughout the nineteenth century. Sherwin & Cotton's and others barbotine tiles were similarly made with coloured slips applied by painting, earlier examples up until the late 1880s used buff plastic clay bodies, later examples are slip painted on top of embossed biscuit. \n",
      " There are very valid reproductions, such as those by Minton & Co. and Mottehedah. The function of the Minton copy is to celebrate the Minton bicentennial. Each year since 1993, Minton has manufactured almost exact copies of its Victorian majolica tea pots. To date, these include the Monkey tea pot, the Chinese Actor tea pot, the Cat and Mouse tea pot, the Monkey and Cockerel tea pot and the Blowfish tea pot, with the Turtle tea pot slowly ambling toward eager collectors. Each tea pot undersurface is carefully marked with the year of production, the number of teapots in each series, the specific number of the particular tea pot, and the label of the body as Fine China (not passing as majolica). The Mottehedah Co. has reproduced almost all forms of ceramics, including majolica, but has always labeled the undersurface appropriately. Mottehedah copies also have a function: it is said that in places such as the White House, souvenirs may disappear, so it is necessary to guard against the greater loss of the original piece. \n",
      " The Continent In Europe, potteries in France and Germany continued to produce majolica. Most striking were the numerous designs of asparagus plates and serving pieces of the Alsace-Lorraine area, the 19th-century Palissy works of French ceramic artists of Paris and Tours, and the majolica of Choisy-le-Roi, Sarreguemines, Luneville and Saint Clement, and Onnaing among others. The Massier family in Vallauris in the south of France produced the link between traditional Victorian majolica and Art Nouveau pottery. Villeroy and Boch of Germany, Wilhelm Schiller and Sons of Czechoslovakia, Mafra and Sons of Caldas de Rainha, Portugal, and Rorstrand of Sweden all contributed to the ceramic history of the latter half of the century. These factories are the subject of another article. \n"
     ]
    }
   ],
   "source": [
    "a = articles[0]\n",
    "def getTopParagraphs(a, L):\n",
    "    paragraphs = a.split('\\n')\n",
    "    scores = []\n",
    "    for p in paragraphs:\n",
    "        scores.append(cheat(p, a))\n",
    "    final = [(scores[y], paragraphs[y]) for y in range(len(paragraphs))]\n",
    "    final = sorted(((v,k) for v,k in final), reverse=True)\n",
    "    return final[:L]\n",
    "\n",
    "pars = getTopParagraphs(articles[1], 3)\n",
    "for score, par in pars:\n",
    "    print(par)"
   ]
  }
 ],
 "metadata": {
  "kernelspec": {
   "display_name": "Python 3",
   "language": "python",
   "name": "python3"
  },
  "language_info": {
   "codemirror_mode": {
    "name": "ipython",
    "version": 3
   },
   "file_extension": ".py",
   "mimetype": "text/x-python",
   "name": "python",
   "nbconvert_exporter": "python",
   "pygments_lexer": "ipython3",
   "version": "3.9.1"
  },
  "orig_nbformat": 4
 },
 "nbformat": 4,
 "nbformat_minor": 2
}
